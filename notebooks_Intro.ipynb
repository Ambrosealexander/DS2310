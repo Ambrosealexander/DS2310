{
  "metadata": {
    "toc-showcode": false,
    "toc-autonumbering": false,
    "kernelspec": {
      "name": "python",
      "display_name": "Python (Pyodide)",
      "language": "python"
    },
    "language_info": {
      "codemirror_mode": {
        "name": "python",
        "version": 3
      },
      "file_extension": ".py",
      "mimetype": "text/x-python",
      "name": "python",
      "nbconvert_exporter": "python",
      "pygments_lexer": "ipython3",
      "version": "3.8"
    }
  },
  "nbformat_minor": 5,
  "nbformat": 4,
  "cells": [
    {
      "cell_type": "code",
      "source": "Question 1- Write a Python program to replace all occurrences of a space, comma, or dot with a\ncolon.\nSample Text- 'Python Exercises, PHP exercises.'\nExpected Output: Python: Exercises::PHP: exercises:\n",
      "metadata": {},
      "execution_count": null,
      "outputs": [],
      "id": "d9d20ff3-1e28-4682-a85b-7332355f5fd6"
    },
    {
      "cell_type": "code",
      "source": "def replace_with_colon(text):\n    replacements = {' ': ':', ',': ':', '.': ':'}\n    replaced_text = ''.join(replacements.get(c, c) for c in text)\n    return replaced_text\n\nsample_text = 'Python Exercises, PHP exercises.'\nmodified_text = replace_with_colon(sample_text)\nprint(modified_text)",
      "metadata": {
        "trusted": true
      },
      "execution_count": 3,
      "outputs": [
        {
          "name": "stdout",
          "text": "Python:Exercises::PHP:exercises:\n",
          "output_type": "stream"
        }
      ],
      "id": "c439679f-c99f-42d3-a5fb-ddc0d872c4dd"
    },
    {
      "cell_type": "code",
      "source": "Question 2- Greate a datefame using the dictionary below and remove everthing (commas U, 1,\nXXXX, ; etc.) from the columns except words.\nDictionary- ('SUMMARY': ['hello, world!', 'XXXXX test', '123four, fiver; six...'])",
      "metadata": {},
      "execution_count": null,
      "outputs": [],
      "id": "9939f2c7-ab29-41d8-9aa8-394401f87b91"
    },
    {
      "cell_type": "code",
      "source": "import pandas as pd\nimport re\n\ndata = {\n    'SUMMARY': ['hello, world!', 'XXXXX test', '123four, fiver; six...']\n}\n\n# Creating a DataFrame from the dictionary\ndf = pd.DataFrame(data)\n\n# Function to clean text, keeping only words\ndef clean_text(text):\n    cleaned_text = re.sub(r'[^a-zA-Z\\s]', '', text)  # Keep only letters and spaces\n    return ' '.join(cleaned_text.split())  # Remove extra spaces\n\n# Cleaning the 'SUMMARY' column\ndf['SUMMARY'] = df['SUMMARY'].apply(clean_text)\n\nprint(df)",
      "metadata": {
        "trusted": true
      },
      "execution_count": 4,
      "outputs": [
        {
          "name": "stdout",
          "text": "          SUMMARY\n0     hello world\n1      XXXXX test\n2  four fiver six\n",
          "output_type": "stream"
        }
      ],
      "id": "e3bc0d7a-6abb-4d27-81fc-8e789ddd8c6f"
    },
    {
      "cell_type": "code",
      "source": "Question 3- Create a function in python to find all words that are at least 4 characters long in a string.\nThe use of the re.compile() method is mandatory.",
      "metadata": {},
      "execution_count": null,
      "outputs": [],
      "id": "bf0a40fb-b55b-4830-9f5b-0e6868d694b2"
    },
    {
      "cell_type": "code",
      "source": "import re\n\ndef find_words_at_least_four_chars(text):\n    pattern = re.compile(r'\\b\\w{4,}\\b')  # Using re.compile() to create a pattern for words at least 4 characters long\n    words = pattern.findall(text)  # Finding all words that match the pattern in the text\n    return words\n\n# Example usage:\ninput_string = \"This is a sample string with some words having various lengths like Python, exercise, program, etc.\"\nresult = find_words_at_least_four_chars(input_string)\nprint(\"Words with at least 4 characters:\", result)",
      "metadata": {
        "trusted": true
      },
      "execution_count": 6,
      "outputs": [
        {
          "name": "stdout",
          "text": "Words with at least 4 characters: ['This', 'sample', 'string', 'with', 'some', 'words', 'having', 'various', 'lengths', 'like', 'Python', 'exercise', 'program']\n",
          "output_type": "stream"
        }
      ],
      "id": "5538da00-a51c-4ec7-90ca-21411249dee4"
    },
    {
      "cell_type": "code",
      "source": "Question 4- Create a function in python to find all three, four, and five character words in a string.\nThe use of the re.compile() method is mandatory.",
      "metadata": {},
      "execution_count": null,
      "outputs": [],
      "id": "011d7bb8-f7a6-4ef8-bc84-e5df5e2307e6"
    },
    {
      "cell_type": "code",
      "source": "import re\n\ndef find_specific_length_words(text):\n    pattern = re.compile(r'\\b\\w{3,5}\\b')  # Using re.compile() to create a pattern for words of length 3, 4, or 5 characters\n    words = pattern.findall(text)  # Finding all words that match the pattern in the text\n    return words\n\n# Example usage:\ninput_string = \"This is a sample string with various word lengths such as Python, test, program, etc.\"\nresult = find_specific_length_words(input_string)\nprint(\"Words with 3, 4, or 5 characters:\", result)",
      "metadata": {
        "trusted": true
      },
      "execution_count": 7,
      "outputs": []
    },
    {
      "cell_type": "code",
      "source": "Question 5- Create a function in Python to remove the parenthesis in a list of strings. The use of the re.compile() method is mandatory.\nSample Text: [\"example (.com)\", \"hr@fliprobo (.com)\", \"github (.com)\", \"Hello (Data Science World)\",\n\"Data (Scientist)\"]",
      "metadata": {},
      "execution_count": null,
      "outputs": [],
      "id": "9c4f70ce-7eaf-4c25-b05c-400e4adcd420"
    },
    {
      "cell_type": "code",
      "source": "import re\n\ndef remove_parenthesis(strings):\n    pattern = re.compile(r'\\((.*?)\\)')  # Using re.compile() to create a pattern for removing text within parentheses\n    cleaned_strings = [pattern.sub('', s) for s in strings]\n    return cleaned_strings\n\n# Sample Text\nsample_text = [\n    \"example (.com)\",\n    \"hr@fliprobo (.com)\",\n    \"github (.com)\",\n    \"Hello (Data Science World)\",\n    \"Data (Scientist)\"\n]\n\n# Removing parentheses from the list of strings\nresult = remove_parenthesis(sample_text)\nprint(\"Strings after removing parenthesis:\")\nfor text in result:\n    print(text)",
      "metadata": {
        "trusted": true
      },
      "execution_count": 8,
      "outputs": [
        {
          "name": "stdout",
          "text": "Strings after removing parenthesis:\nexample \nhr@fliprobo \ngithub \nHello \nData \n",
          "output_type": "stream"
        }
      ],
      "id": "02d7d939-f751-40df-80fa-680ec203cf91"
    },
    {
      "cell_type": "code",
      "source": "Question 6- Write a python program to remove the parenthesis area from the text stored in the text file using Regular Expression.\n\nSample Text: [\"example (.com)\", \"hr@fliprobo (.com)\", \"github (.com)\", \"Hello (Data Science World)\", \"Data (Scientist)\"]",
      "metadata": {},
      "execution_count": null,
      "outputs": [],
      "id": "bf65fe02-7c50-4eb4-9e07-3179b6e00010"
    },
    {
      "cell_type": "code",
      "source": "import re\n\ndef remove_parenthesis_from_file(file_path):\n    # Read text from file\n    with open(file_path, 'r') as file:\n        text = file.read()\n\n    # Regular expression pattern to remove text within parentheses\n    pattern = re.compile(r'\\((.*?)\\)')\n\n    # Remove text within parentheses\n    updated_text = pattern.sub('', text)\n\n    # Write updated text back to the file\n    with open(file_path, 'w') as file:\n        file.write(updated_text)\n\n# File path where the text is stored\nfile_path = 'sample_text.txt'\n\n# Remove parenthesis area from the text in the file\nremove_parenthesis_from_file(file_path)",
      "metadata": {
        "trusted": true
      },
      "execution_count": 9,
      "outputs": [
        {
          "ename": "<class 'FileNotFoundError'>",
          "evalue": "[Errno 44] No such file or directory: 'sample_text.txt'",
          "traceback": [
            "\u001b[0;31m---------------------------------------------------------------------------\u001b[0m",
            "\u001b[0;31mFileNotFoundError\u001b[0m                         Traceback (most recent call last)",
            "Cell \u001b[0;32mIn[9], line 22\u001b[0m\n\u001b[1;32m     19\u001b[0m file_path \u001b[38;5;241m=\u001b[39m \u001b[38;5;124m'\u001b[39m\u001b[38;5;124msample_text.txt\u001b[39m\u001b[38;5;124m'\u001b[39m\n\u001b[1;32m     21\u001b[0m \u001b[38;5;66;03m# Remove parenthesis area from the text in the file\u001b[39;00m\n\u001b[0;32m---> 22\u001b[0m \u001b[43mremove_parenthesis_from_file\u001b[49m\u001b[43m(\u001b[49m\u001b[43mfile_path\u001b[49m\u001b[43m)\u001b[49m\n",
            "Cell \u001b[0;32mIn[9], line 5\u001b[0m, in \u001b[0;36mremove_parenthesis_from_file\u001b[0;34m(file_path)\u001b[0m\n\u001b[1;32m      3\u001b[0m \u001b[38;5;28;01mdef\u001b[39;00m \u001b[38;5;21mremove_parenthesis_from_file\u001b[39m(file_path):\n\u001b[1;32m      4\u001b[0m     \u001b[38;5;66;03m# Read text from file\u001b[39;00m\n\u001b[0;32m----> 5\u001b[0m     \u001b[38;5;28;01mwith\u001b[39;00m \u001b[38;5;28;43mopen\u001b[39;49m\u001b[43m(\u001b[49m\u001b[43mfile_path\u001b[49m\u001b[43m,\u001b[49m\u001b[43m \u001b[49m\u001b[38;5;124;43m'\u001b[39;49m\u001b[38;5;124;43mr\u001b[39;49m\u001b[38;5;124;43m'\u001b[39;49m\u001b[43m)\u001b[49m \u001b[38;5;28;01mas\u001b[39;00m file:\n\u001b[1;32m      6\u001b[0m         text \u001b[38;5;241m=\u001b[39m file\u001b[38;5;241m.\u001b[39mread()\n\u001b[1;32m      8\u001b[0m     \u001b[38;5;66;03m# Regular expression pattern to remove text within parentheses\u001b[39;00m\n",
            "File \u001b[0;32m/lib/python3.11/site-packages/IPython/core/interactiveshell.py:308\u001b[0m, in \u001b[0;36m_modified_open\u001b[0;34m(file, *args, **kwargs)\u001b[0m\n\u001b[1;32m    301\u001b[0m \u001b[38;5;28;01mif\u001b[39;00m file \u001b[38;5;129;01min\u001b[39;00m {\u001b[38;5;241m0\u001b[39m, \u001b[38;5;241m1\u001b[39m, \u001b[38;5;241m2\u001b[39m}:\n\u001b[1;32m    302\u001b[0m     \u001b[38;5;28;01mraise\u001b[39;00m \u001b[38;5;167;01mValueError\u001b[39;00m(\n\u001b[1;32m    303\u001b[0m         \u001b[38;5;124mf\u001b[39m\u001b[38;5;124m\"\u001b[39m\u001b[38;5;124mIPython won\u001b[39m\u001b[38;5;124m'\u001b[39m\u001b[38;5;124mt let you open fd=\u001b[39m\u001b[38;5;132;01m{\u001b[39;00mfile\u001b[38;5;132;01m}\u001b[39;00m\u001b[38;5;124m by default \u001b[39m\u001b[38;5;124m\"\u001b[39m\n\u001b[1;32m    304\u001b[0m         \u001b[38;5;124m\"\u001b[39m\u001b[38;5;124mas it is likely to crash IPython. If you know what you are doing, \u001b[39m\u001b[38;5;124m\"\u001b[39m\n\u001b[1;32m    305\u001b[0m         \u001b[38;5;124m\"\u001b[39m\u001b[38;5;124myou can use builtins\u001b[39m\u001b[38;5;124m'\u001b[39m\u001b[38;5;124m open.\u001b[39m\u001b[38;5;124m\"\u001b[39m\n\u001b[1;32m    306\u001b[0m     )\n\u001b[0;32m--> 308\u001b[0m \u001b[38;5;28;01mreturn\u001b[39;00m \u001b[43mio_open\u001b[49m\u001b[43m(\u001b[49m\u001b[43mfile\u001b[49m\u001b[43m,\u001b[49m\u001b[43m \u001b[49m\u001b[38;5;241;43m*\u001b[39;49m\u001b[43margs\u001b[49m\u001b[43m,\u001b[49m\u001b[43m \u001b[49m\u001b[38;5;241;43m*\u001b[39;49m\u001b[38;5;241;43m*\u001b[39;49m\u001b[43mkwargs\u001b[49m\u001b[43m)\u001b[49m\n",
            "\u001b[0;31mFileNotFoundError\u001b[0m: [Errno 44] No such file or directory: 'sample_text.txt'"
          ],
          "output_type": "error"
        }
      ],
      "id": "fc5600e9-30cc-4aec-8df9-4b84a0793a82"
    },
    {
      "cell_type": "code",
      "source": "Question 7- Write a regular expression in Python to split a string into uppercase letters.\n",
      "metadata": {},
      "execution_count": null,
      "outputs": [],
      "id": "d6ed215f-7a92-4f20-bf34-c8d46fd8cf24"
    },
    {
      "cell_type": "code",
      "source": "import re\n\ntext = \"ThisISaSampleSTRINGWithUPPERCASELetters\"\n\n# Split the string into uppercase letters using regular expression\nuppercase_letters = re.split(r'(?=[A-Z])', text)\n\nprint(uppercase_letters)",
      "metadata": {
        "trusted": true
      },
      "execution_count": 11,
      "outputs": [
        {
          "name": "stdout",
          "text": "['', 'This', 'I', 'Sa', 'Sample', 'S', 'T', 'R', 'I', 'N', 'G', 'With', 'U', 'P', 'P', 'E', 'R', 'C', 'A', 'S', 'E', 'Letters']\n",
          "output_type": "stream"
        }
      ],
      "id": "e7e97f85-259e-4b9e-9ad3-dc17e2c18f6f"
    },
    {
      "cell_type": "code",
      "source": "Question 8- Create a function in python to insert spaces between words starting with numbers.",
      "metadata": {},
      "execution_count": null,
      "outputs": [],
      "id": "e9c667d2-d600-4191-9b3f-ab7c9ee28637"
    },
    {
      "cell_type": "code",
      "source": "import re\n\ndef insert_space_words_starting_with_numbers(text):\n    updated_text = re.sub(r'(\\D)(\\d)', r'\\1 \\2', text)\n    return updated_text\n\n# Example usage:\ninput_text = \"Thereare3apples, 5oranges, and 7bananas.\"\n\nresult = insert_space_words_starting_with_numbers(input_text)\nprint(\"Updated text with spaces:\", result)",
      "metadata": {
        "trusted": true
      },
      "execution_count": 12,
      "outputs": [
        {
          "name": "stdout",
          "text": "Updated text with spaces: Thereare 3apples,  5oranges, and  7bananas.\n",
          "output_type": "stream"
        }
      ],
      "id": "58c52317-007f-44b3-8a78-6d9b60a1de78"
    },
    {
      "cell_type": "code",
      "source": "Question 9- Create a function in python to insert spaces between words starting with capital letters or with numbers.\n",
      "metadata": {},
      "execution_count": null,
      "outputs": [],
      "id": "8f4e61c2-7ce3-4b76-ba59-ead95955f0c7"
    },
    {
      "cell_type": "code",
      "source": "import re\n\ndef insert_spaces(text):\n    updated_text = re.sub(r'(?<=[a-z])([A-Z0-9])', r' \\1', text)\n    return updated_text\n\n# Example usage:\ninput_text = \"ThisIsATestWith4NumbersAndCAPS\"\n\nresult = insert_spaces(input_text)\nprint(\"Updated text with spaces:\", result)",
      "metadata": {
        "trusted": true
      },
      "execution_count": 13,
      "outputs": [
        {
          "name": "stdout",
          "text": "Updated text with spaces: This Is ATest With 4Numbers And CAPS\n",
          "output_type": "stream"
        }
      ],
      "id": "813c39b9-d577-4a78-a2ed-6da3b51e05e7"
    },
    {
      "cell_type": "code",
      "source": "Question 10- Use the github link below to read the data and create a dataframe. After creating the dataframe extract the first 6 letters of each country and store in the dataframe under a new column called first_five_letters.\n\nGithub Link-  https://raw.githubusercontent.com/dsrscientist/DSData/master/happiness_score_dataset.csv",
      "metadata": {},
      "execution_count": null,
      "outputs": [],
      "id": "2f591654-3da0-49ac-8fa1-49351d430869"
    },
    {
      "cell_type": "code",
      "source": "",
      "metadata": {},
      "execution_count": null,
      "outputs": [],
      "id": "97ce22a4-9cef-4658-80ca-4374fea95675"
    },
    {
      "cell_type": "code",
      "source": "Question 11- Write a Python program to match a string that contains only upper and lowercase letters, numbers, and underscores.\n",
      "metadata": {},
      "execution_count": null,
      "outputs": [],
      "id": "f45f6351-e13e-4fc4-8ff6-8e7046c75027"
    },
    {
      "cell_type": "code",
      "source": "import re\n\ndef match_string(input_string):\n    pattern = re.compile(r'^[a-zA-Z0-9_]+$')\n    if pattern.match(input_string):\n        return True\n    return False\n\n# Example usage:\ntest_string_1 = \"Abcd123_test\"\ntest_string_2 = \"Abcd$123_test\"  # Contains a special character\n\nresult_1 = match_string(test_string_1)\nresult_2 = match_string(test_string_2)\n\nprint(f\"String 1 ({test_string_1}): Contains only permitted characters? {result_1}\")\nprint(f\"String 2 ({test_string_2}): Contains only permitted characters? {result_2}\")",
      "metadata": {
        "trusted": true
      },
      "execution_count": 14,
      "outputs": [
        {
          "name": "stdout",
          "text": "String 1 (Abcd123_test): Contains only permitted characters? True\nString 2 (Abcd$123_test): Contains only permitted characters? False\n",
          "output_type": "stream"
        }
      ],
      "id": "bef81321-8298-4339-9c16-5722a368dcad"
    },
    {
      "cell_type": "code",
      "source": "Question 12- Write a Python program where a string will start with a specific number.",
      "metadata": {},
      "execution_count": null,
      "outputs": [],
      "id": "805af574-e611-445e-b9ea-c1843ccb664a"
    },
    {
      "cell_type": "code",
      "source": "import re\n\ndef starts_with_number(string, number):\n    pattern = re.compile(f'^{number}')\n    if pattern.match(string):\n        return True\n    return False\n\n# Example usage:\ntest_string_1 = \"123abc\"  # Should start with '123'\ntest_string_2 = \"abc123\"  # Should not start with '123'\n\nnumber_to_check = '123'\n\nresult_1 = starts_with_number(test_string_1, number_to_check)\nresult_2 = starts_with_number(test_string_2, number_to_check)\n\nprint(f\"String 1 ({test_string_1}): Starts with '{number_to_check}'? {result_1}\")\nprint(f\"String 2 ({test_string_2}): Starts with '{number_to_check}'? {result_2}\")",
      "metadata": {
        "trusted": true
      },
      "execution_count": 15,
      "outputs": [
        {
          "name": "stdout",
          "text": "String 1 (123abc): Starts with '123'? True\nString 2 (abc123): Starts with '123'? False\n",
          "output_type": "stream"
        }
      ],
      "id": "1239e414-3217-4830-8ea6-e72e7a333d10"
    },
    {
      "cell_type": "code",
      "source": "Question 13- Write a Python program to remove leading zeros from an IP address\n",
      "metadata": {},
      "execution_count": null,
      "outputs": [],
      "id": "f8635ac2-ff3a-4d9a-86a0-f96be0246bef"
    },
    {
      "cell_type": "code",
      "source": "def remove_leading_zeros(ip_address):\n    # Split the IP address into its octets and remove leading zeros\n    cleaned_address = \".\".join(str(int(octet)) for octet in ip_address.split(\".\"))\n    return cleaned_address\n\n# Example usage:\nip_with_zeros = \"192.168.005.001\"  # IP address with leading zeros\ncleaned_ip = remove_leading_zeros(ip_with_zeros)\nprint(\"IP address without leading zeros:\", cleaned_ip)",
      "metadata": {
        "trusted": true
      },
      "execution_count": 16,
      "outputs": [
        {
          "name": "stdout",
          "text": "IP address without leading zeros: 192.168.5.1\n",
          "output_type": "stream"
        }
      ],
      "id": "5518fa92-c1f0-4bb3-a84c-91207c561be2"
    },
    {
      "cell_type": "code",
      "source": "Question 14- Write a regular expression in python to match a date string in the form of Month name followed by day number and year stored in a text file.\n",
      "metadata": {},
      "execution_count": null,
      "outputs": [],
      "id": "9897e27a-6aee-4d9b-9a1b-ecfcc5fc9b31"
    },
    {
      "cell_type": "code",
      "source": "import re\n\ndef match_date_strings_in_text(text):\n    pattern = re.compile(r'\\b(?:January|February|March|April|May|June|July|August|September|October|November|December)\\s+\\d{1,2}(?:st|nd|rd|th)?\\s+\\d{4}\\b')\n\n    matches = pattern.findall(text)\n\n    return matches\n\n# Sample text\nsample_text = 'On August 15th 1947 that India was declared independent from British colonialism, and the reins of control were handed over to the leaders of the Country.'\n\nmatched_dates = match_date_strings_in_text(sample_text)\n\nprint(\"Date strings found in the text:\")\nfor date in matched_dates:\n    print(date)",
      "metadata": {
        "trusted": true
      },
      "execution_count": 18,
      "outputs": [
        {
          "name": "stdout",
          "text": "Date strings found in the text:\nAugust 15th 1947\n",
          "output_type": "stream"
        }
      ],
      "id": "96024cae-a62e-49c4-a56c-a6987df80fc7"
    },
    {
      "cell_type": "code",
      "source": "Question 15- Write a Python program to search some literals strings in a string.\n\nSample text : 'The quick brown fox jumps over the lazy dog.'",
      "metadata": {},
      "execution_count": null,
      "outputs": [],
      "id": "a7946c76-bd77-4924-8bd4-16bcffd51995"
    },
    {
      "cell_type": "code",
      "source": "def search_strings_in_text(text, search_strings):\n    found_strings = [s for s in search_strings if s in text]\n    return found_strings\n\n# Sample text\nsample_text = 'The quick brown fox jumps over the lazy dog.'\n\n# List of strings to search for\nstrings_to_search = ['fox', 'dog', 'rabbit', 'lazy']\n\nfound_strings = search_strings_in_text(sample_text, strings_to_search)\n\nprint(\"Strings found in the text:\")\nfor string in found_strings:\n    print(string)",
      "metadata": {
        "trusted": true
      },
      "execution_count": 19,
      "outputs": [
        {
          "name": "stdout",
          "text": "Strings found in the text:\nfox\ndog\nlazy\n",
          "output_type": "stream"
        }
      ],
      "id": "e2933f31-ddf7-4ccd-a616-a3e8a7bd99ca"
    },
    {
      "cell_type": "code",
      "source": "Question 16- Write a Python program to search a literals string in a string and also find the location within the original string where the pattern occurs\n\nSample text : 'The quick brown fox jumps over the lazy dog.'",
      "metadata": {},
      "execution_count": null,
      "outputs": [],
      "id": "4f60b464-713c-4b32-bd51-05e0d6c3ba90"
    },
    {
      "cell_type": "code",
      "source": "def search_string_with_location(text, pattern):\n    locations = []\n    start = 0\n\n    while True:\n        start = text.find(pattern, start)\n        if start == -1:\n            break\n        locations.append(start)\n        start += 1\n\n    return locations\n\n# Sample text\nsample_text = 'The quick brown fox jumps over the lazy dog.'\n\n# Pattern to search for\npattern_to_find = 'fox'\n\nfound_locations = search_string_with_location(sample_text, pattern_to_find)\n\nif found_locations:\n    print(f\"The pattern '{pattern_to_find}' found at the following locations:\")\n    for location in found_locations:\n        print(f\"Index: {location}\")\nelse:\n    print(f\"The pattern '{pattern_to_find}' not found in the text.\")",
      "metadata": {
        "trusted": true
      },
      "execution_count": 20,
      "outputs": [
        {
          "name": "stdout",
          "text": "The pattern 'fox' found at the following locations:\nIndex: 16\n",
          "output_type": "stream"
        }
      ],
      "id": "0eb161b3-42f2-4d42-aae5-3bac6139fca5"
    },
    {
      "cell_type": "code",
      "source": "Question 17- Write a Python program to find the substrings within a string.",
      "metadata": {},
      "execution_count": null,
      "outputs": [],
      "id": "542589cd-a6a2-4d31-892c-3a3422d6c02f"
    },
    {
      "cell_type": "code",
      "source": "def find_substrings(text):\n    substrings = [text[i: j] for i in range(len(text)) for j in range(i + 1, len(text) + 1)]\n    return substrings\n\n# Sample text\nsample_text = 'Hello'\n\nresult = find_substrings(sample_text)\n\nprint(\"Substrings found in the text:\")\nfor substring in result:\n    print(substring)",
      "metadata": {
        "trusted": true
      },
      "execution_count": 22,
      "outputs": [
        {
          "name": "stdout",
          "text": "Substrings found in the text:\nH\nHe\nHel\nHell\nHello\ne\nel\nell\nello\nl\nll\nllo\nl\nlo\no\n",
          "output_type": "stream"
        }
      ],
      "id": "c6f77512-712e-4c00-beb3-56585bc82ec1"
    },
    {
      "cell_type": "code",
      "source": "Question 18- Write a Python program to find the occurrence and position of the substrings within a string.\n",
      "metadata": {},
      "execution_count": null,
      "outputs": [],
      "id": "b49f80a7-c210-4ecc-8df2-3430b9116352"
    },
    {
      "cell_type": "code",
      "source": "def find_occurrences(text, substring):\n    occurrences = []\n    start = 0\n\n    while start < len(text):\n        index = text.find(substring, start)\n        if index == -1:\n            break\n        occurrences.append((substring, index))\n        start = index + 1\n\n    return occurrences\n\n# Sample text\nsample_text = 'This is a test string. This string is for testing.'\n\n# Substring to search for\nsubstring_to_find = 'is'\n\nresult = find_occurrences(sample_text, substring_to_find)\n\nprint(f\"Occurrences and positions of '{substring_to_find}' in the text:\")\nfor occurrence in result:\n    print(f\"Substring: '{occurrence[0]}' found at index: {occurrence[1]}\")",
      "metadata": {
        "trusted": true
      },
      "execution_count": 23,
      "outputs": [
        {
          "name": "stdout",
          "text": "Occurrences and positions of 'is' in the text:\nSubstring: 'is' found at index: 2\nSubstring: 'is' found at index: 5\nSubstring: 'is' found at index: 25\nSubstring: 'is' found at index: 35\n",
          "output_type": "stream"
        }
      ],
      "id": "58e6738f-06f1-4d08-9e7b-5ceec564bf41"
    },
    {
      "cell_type": "code",
      "source": "Question 19- Write a Python program to convert a date of yyyy-mm-dd format to dd-mm-yyyy format.\n\n",
      "metadata": {},
      "execution_count": null,
      "outputs": [],
      "id": "3be8f926-50ac-4e3c-be7e-f8cffe28dc41"
    },
    {
      "cell_type": "code",
      "source": "def convert_date_format(date):\n    # Split the date string using '-' as the separator\n    parts = date.split('-')\n\n    # Reorder the parts and join them in the 'dd-mm-yyyy' format\n    formatted_date = '-'.join(reversed(parts))\n    \n    return formatted_date\n\n# Example usage\ndate_input = '2023-11-04'  # Date in yyyy-mm-dd format\n\nconverted_date = convert_date_format(date_input)\nprint(f\"Original date: {date_input}\")\nprint(f\"Converted date: {converted_date}\")",
      "metadata": {
        "trusted": true
      },
      "execution_count": 24,
      "outputs": [
        {
          "name": "stdout",
          "text": "Original date: 2023-11-04\nConverted date: 04-11-2023\n",
          "output_type": "stream"
        }
      ],
      "id": "31ee1f55-ab72-42da-9b68-8bdae9a725e4"
    },
    {
      "cell_type": "code",
      "source": "Question 20- Create a function in python to find all decimal numbers with a precision of 1 or 2 in a string. The use of the re.compile() method is mandatory.\n\nSample Text: \"01.12 0132.123 2.31875 145.8 3.01 27.25 0.25\"",
      "metadata": {},
      "execution_count": null,
      "outputs": [],
      "id": "b77312ab-9415-44e1-811c-ec9b753fc012"
    },
    {
      "cell_type": "code",
      "source": "import re\n\ndef find_decimal_numbers(text):\n    pattern = re.compile(r'\\b\\d+\\.\\d{1,2}\\b')\n    decimals = pattern.findall(text)\n    return decimals\n\n# Sample text\nsample_text = \"01.12 0132.123 2.31875 145.8 3.01 27.25 0.25\"\n\nresult = find_decimal_numbers(sample_text)\nprint(\"Decimal numbers with precision of 1 or 2 found in the text:\")\nprint(result)",
      "metadata": {
        "trusted": true
      },
      "execution_count": 25,
      "outputs": [
        {
          "name": "stdout",
          "text": "Decimal numbers with precision of 1 or 2 found in the text:\n['01.12', '145.8', '3.01', '27.25', '0.25']\n",
          "output_type": "stream"
        }
      ],
      "id": "e9bc1796-f8de-4771-a2fc-6896a456dddf"
    },
    {
      "cell_type": "code",
      "source": "Question 21- Write a Python program to separate and print the numbers and their position of a given string.\n",
      "metadata": {},
      "execution_count": null,
      "outputs": [],
      "id": "496f2512-8ab1-4530-9122-4d3dcc1bada1"
    },
    {
      "cell_type": "code",
      "source": "def separate_numbers_with_positions(text):\n    numbers = []\n    positions = []\n    \n    for index, char in enumerate(text):\n        if char.isdigit():\n            numbers.append(char)\n            positions.append(index)\n\n    return numbers, positions\n\n# Sample text\nsample_text = \"abc123xyz456def789\"\n\nresult_numbers, result_positions = separate_numbers_with_positions(sample_text)\n\nprint(\"Numbers and their positions in the text:\")\nfor number, position in zip(result_numbers, result_positions):\n    print(f\"Number: {number}, Position: {position}\")",
      "metadata": {
        "trusted": true
      },
      "execution_count": 26,
      "outputs": [
        {
          "name": "stdout",
          "text": "Numbers and their positions in the text:\nNumber: 1, Position: 3\nNumber: 2, Position: 4\nNumber: 3, Position: 5\nNumber: 4, Position: 9\nNumber: 5, Position: 10\nNumber: 6, Position: 11\nNumber: 7, Position: 15\nNumber: 8, Position: 16\nNumber: 9, Position: 17\n",
          "output_type": "stream"
        }
      ],
      "id": "97b23518-d97b-4101-b81f-fedeee806788"
    },
    {
      "cell_type": "code",
      "source": "Question 22- Write a regular expression in python program to extract maximum/largest numeric value from a string.\n\nSample Text:  'My marks in each semester are: 947, 896, 926, 524, 734, 950, 642'",
      "metadata": {},
      "execution_count": null,
      "outputs": [],
      "id": "a0e1deba-6d3d-44a3-8dd5-561888678574"
    },
    {
      "cell_type": "code",
      "source": "import re\n\ndef extract_max_numeric_value(text):\n    numbers = re.findall(r'\\b\\d+\\b', text)\n    max_value = max(map(int, numbers))\n    return max_value\n\n# Sample text\nsample_text = 'My marks in each semester are: 947, 896, 926, 524, 734, 950, 642'\n\nmax_number = extract_max_numeric_value(sample_text)\n\nprint(f\"The maximum numeric value in the text is: {max_number}\")",
      "metadata": {
        "trusted": true
      },
      "execution_count": 27,
      "outputs": [
        {
          "name": "stdout",
          "text": "The maximum numeric value in the text is: 950\n",
          "output_type": "stream"
        }
      ],
      "id": "78a9f6b6-2324-49c9-90b1-ae7a65a81039"
    },
    {
      "cell_type": "code",
      "source": "Question 23- Create a function in python to insert spaces between words starting with capital letters.\n\nSample Text: “RegularExpressionIsAnImportantTopicInPython\"",
      "metadata": {},
      "execution_count": null,
      "outputs": [],
      "id": "064db547-ab55-4a4c-9499-5be35bd89b61"
    },
    {
      "cell_type": "code",
      "source": "import re\n\ndef insert_spaces(text):\n    updated_text = re.sub(r'(?<!^)(?=[A-Z])', ' ', text)\n    return updated_text\n\n# Sample text\nsample_text = \"RegularExpressionIsAnImportantTopicInPython\"\n\nresult = insert_spaces(sample_text)\nprint(\"Updated text with spaces:\", result)",
      "metadata": {
        "trusted": true
      },
      "execution_count": 28,
      "outputs": [
        {
          "name": "stdout",
          "text": "Updated text with spaces: Regular Expression Is An Important Topic In Python\n",
          "output_type": "stream"
        }
      ],
      "id": "5377bcdf-0a61-456a-833b-9be298e49276"
    },
    {
      "cell_type": "code",
      "source": "Question 24- Python regex to find sequences of one upper case letter followed by lower case letters\n",
      "metadata": {},
      "execution_count": null,
      "outputs": [],
      "id": "e4e1951e-a1da-4a2e-ab55-8e7b16790b3d"
    },
    {
      "cell_type": "code",
      "source": "import re\n\ndef find_uppercase_followed_by_lowercase(text):\n    pattern = re.compile(r'[A-Z][a-z]+')\n\n    sequences = pattern.findall(text)\n    return sequences\n\n# Sample text\nsample_text = \"This is a Sample TEXT with Several Sequences like This One and Another One\"\n\nresult = find_uppercase_followed_by_lowercase(sample_text)\nprint(\"Sequences of one uppercase followed by lowercase letters:\")\nprint(result)",
      "metadata": {
        "trusted": true
      },
      "execution_count": 29,
      "outputs": [
        {
          "name": "stdout",
          "text": "Sequences of one uppercase followed by lowercase letters:\n['This', 'Sample', 'Several', 'Sequences', 'This', 'One', 'Another', 'One']\n",
          "output_type": "stream"
        }
      ],
      "id": "bcf140bb-e67f-4d55-ac6f-07bc8f930b3e"
    },
    {
      "cell_type": "code",
      "source": "Question 25- Write a Python program to remove continuous duplicate words from Sentence using Regular Expression.\n\nSample Text: \"Hello hello world world\"",
      "metadata": {},
      "execution_count": null,
      "outputs": [],
      "id": "dd96df9c-d99e-4da1-9209-f663caacbceb"
    },
    {
      "cell_type": "code",
      "source": "import re\n\ndef remove_continuous_duplicates(text):\n    pattern = re.compile(r'\\b(\\w+)(\\s+\\1)+\\b', flags=re.IGNORECASE)\n    cleaned_text = pattern.sub(r'\\1', text)\n    return cleaned_text\n\n# Sample text\nsample_text = \"Hello hello world world\"\n\nresult = remove_continuous_duplicates(sample_text)\nprint(\"Text with continuous duplicate words removed:\")\nprint(result)",
      "metadata": {
        "trusted": true
      },
      "execution_count": 30,
      "outputs": [
        {
          "name": "stdout",
          "text": "Text with continuous duplicate words removed:\nHello world\n",
          "output_type": "stream"
        }
      ],
      "id": "11214c70-6243-45dd-90e2-9cbac7fca11f"
    },
    {
      "cell_type": "code",
      "source": "Question 26-  Write a python program using RegEx to accept string ending with alphanumeric character.\n\n",
      "metadata": {},
      "execution_count": null,
      "outputs": [],
      "id": "038db7a8-0cf6-4730-bc52-8dda07606912"
    },
    {
      "cell_type": "code",
      "source": "import re\n\ndef ends_with_alphanumeric(text):\n    pattern = re.compile(r'\\w$')\n\n    match = pattern.search(text)\n    if match:\n        return True\n    return False\n\n# Test strings\ntest_string_1 = \"Hello123\"  # Ends with an alphanumeric character\ntest_string_2 = \"Testing!\"  # Does not end with an alphanumeric character\n\n# Check if strings end with an alphanumeric character\nresult_1 = ends_with_alphanumeric(test_string_1)\nresult_2 = ends_with_alphanumeric(test_string_2)\n\nprint(f\"String 1 ({test_string_1}): Ends with an alphanumeric character? {result_1}\")\nprint(f\"String 2 ({test_string_2}): Ends with an alphanumeric character? {result_2}\")",
      "metadata": {
        "trusted": true
      },
      "execution_count": 31,
      "outputs": [
        {
          "name": "stdout",
          "text": "String 1 (Hello123): Ends with an alphanumeric character? True\nString 2 (Testing!): Ends with an alphanumeric character? False\n",
          "output_type": "stream"
        }
      ],
      "id": "896e5dc1-1959-4089-8c77-ebfda136f60f"
    },
    {
      "cell_type": "code",
      "source": "Question 27-Write a python program using RegEx to extract the hashtags.\n\nSample Text:  \"\"\"RT @kapil_kausik: #Doltiwal I mean #xyzabc is \"hurt\" by #Demonetization as the same has rendered USELESS <ed><U+00A0><U+00BD><ed><U+00B1><U+0089> \"acquired funds\" No wo\"\"\"",
      "metadata": {},
      "execution_count": null,
      "outputs": [],
      "id": "26dd0ae9-a978-4f8b-a56c-25557757b5b4"
    },
    {
      "cell_type": "code",
      "source": "import re\n\ndef extract_hashtags(text):\n    hashtags = re.findall(r'#\\w+', text)\n    return hashtags\n\n# Sample text\nsample_text = \"\"\"RT @kapil_kausik: #Doltiwal I mean #xyzabc is \"hurt\" by #Demonetization as the same has rendered USELESS <ed><U+00A0><U+00BD><ed><U+00B1><U+0089> \"acquired funds\" No wo\"\"\"\n\nresult = extract_hashtags(sample_text)\nprint(\"Extracted hashtags:\")\nprint(result)",
      "metadata": {
        "trusted": true
      },
      "execution_count": 32,
      "outputs": [
        {
          "name": "stdout",
          "text": "Extracted hashtags:\n['#Doltiwal', '#xyzabc', '#Demonetization']\n",
          "output_type": "stream"
        }
      ],
      "id": "d75c4dde-28df-49b8-adf1-3945413581fd"
    },
    {
      "cell_type": "code",
      "source": "Question 28- Write a python program using RegEx to remove <U+..> like symbols\n\nCheck the below sample text, there are strange symbols something of the sort <U+..> all over the place. You need to come up with a general Regex expression that will cover all such symbols.\n\nSample Text: \"@Jags123456 Bharat band on 28??<ed><U+00A0><U+00BD><ed><U+00B8><U+0082>Those who  are protesting #demonetization  are all different party leaders\"",
      "metadata": {},
      "execution_count": null,
      "outputs": [],
      "id": "c5d6de1e-97ff-4464-b111-c7b96e063350"
    },
    {
      "cell_type": "code",
      "source": "import re\n\ndef remove_unicode_symbols(text):\n    cleaned_text = re.sub(r'<U\\+\\w+>', '', text)\n    return cleaned_text\n\n# Sample text\nsample_text = \"@Jags123456 Bharat band on 28??<ed><U+00A0><U+00BD><ed><U+00B8><U+0082>Those who are protesting #demonetization are all different party leaders\"\n\nresult = remove_unicode_symbols(sample_text)\nprint(\"Text with Unicode symbols removed:\")\nprint(result)",
      "metadata": {
        "trusted": true
      },
      "execution_count": 33,
      "outputs": [
        {
          "name": "stdout",
          "text": "Text with Unicode symbols removed:\n@Jags123456 Bharat band on 28??<ed><ed>Those who are protesting #demonetization are all different party leaders\n",
          "output_type": "stream"
        }
      ],
      "id": "52643a39-7cda-4b65-9ca3-7cd254dae233"
    },
    {
      "cell_type": "code",
      "source": "Question 29- Write a python program to extract dates from the text stored in the text file.\n\nSample Text: Ron was born on 12-09-1992 and he was admitted to school 15-12-1999.",
      "metadata": {},
      "execution_count": null,
      "outputs": [],
      "id": "9a92d8e0-c3b1-4339-a5ee-206b978e80b7"
    },
    {
      "cell_type": "code",
      "source": "import re\n\ndef extract_dates_from_file(file_path):\n    with open(file_path, 'r') as file:\n        text = file.read()\n        dates = re.findall(r'\\b\\d{2}-\\d{2}-\\d{4}\\b', text)\n        return dates\n\n# Example usage:\nfile_path = 'text_file.txt'  # Replace with your file path\n\nextracted_dates = extract_dates_from_file(file_path)\n\nprint(\"Dates extracted from the text file:\")\nfor date in extracted_dates:\n    print(date)",
      "metadata": {
        "trusted": true
      },
      "execution_count": 35,
      "outputs": [
        {
          "ename": "<class 'FileNotFoundError'>",
          "evalue": "[Errno 44] No such file or directory: 'text_file.txt'",
          "traceback": [
            "\u001b[0;31m---------------------------------------------------------------------------\u001b[0m",
            "\u001b[0;31mFileNotFoundError\u001b[0m                         Traceback (most recent call last)",
            "Cell \u001b[0;32mIn[35], line 12\u001b[0m\n\u001b[1;32m      9\u001b[0m \u001b[38;5;66;03m# Example usage:\u001b[39;00m\n\u001b[1;32m     10\u001b[0m file_path \u001b[38;5;241m=\u001b[39m \u001b[38;5;124m'\u001b[39m\u001b[38;5;124mtext_file.txt\u001b[39m\u001b[38;5;124m'\u001b[39m  \u001b[38;5;66;03m# Replace with your file path\u001b[39;00m\n\u001b[0;32m---> 12\u001b[0m extracted_dates \u001b[38;5;241m=\u001b[39m \u001b[43mextract_dates_from_file\u001b[49m\u001b[43m(\u001b[49m\u001b[43mfile_path\u001b[49m\u001b[43m)\u001b[49m\n\u001b[1;32m     14\u001b[0m \u001b[38;5;28mprint\u001b[39m(\u001b[38;5;124m\"\u001b[39m\u001b[38;5;124mDates extracted from the text file:\u001b[39m\u001b[38;5;124m\"\u001b[39m)\n\u001b[1;32m     15\u001b[0m \u001b[38;5;28;01mfor\u001b[39;00m date \u001b[38;5;129;01min\u001b[39;00m extracted_dates:\n",
            "Cell \u001b[0;32mIn[35], line 4\u001b[0m, in \u001b[0;36mextract_dates_from_file\u001b[0;34m(file_path)\u001b[0m\n\u001b[1;32m      3\u001b[0m \u001b[38;5;28;01mdef\u001b[39;00m \u001b[38;5;21mextract_dates_from_file\u001b[39m(file_path):\n\u001b[0;32m----> 4\u001b[0m     \u001b[38;5;28;01mwith\u001b[39;00m \u001b[38;5;28;43mopen\u001b[39;49m\u001b[43m(\u001b[49m\u001b[43mfile_path\u001b[49m\u001b[43m,\u001b[49m\u001b[43m \u001b[49m\u001b[38;5;124;43m'\u001b[39;49m\u001b[38;5;124;43mr\u001b[39;49m\u001b[38;5;124;43m'\u001b[39;49m\u001b[43m)\u001b[49m \u001b[38;5;28;01mas\u001b[39;00m file:\n\u001b[1;32m      5\u001b[0m         text \u001b[38;5;241m=\u001b[39m file\u001b[38;5;241m.\u001b[39mread()\n\u001b[1;32m      6\u001b[0m         dates \u001b[38;5;241m=\u001b[39m re\u001b[38;5;241m.\u001b[39mfindall(\u001b[38;5;124mr\u001b[39m\u001b[38;5;124m'\u001b[39m\u001b[38;5;124m\\\u001b[39m\u001b[38;5;124mb\u001b[39m\u001b[38;5;124m\\\u001b[39m\u001b[38;5;124md\u001b[39m\u001b[38;5;132;01m{2}\u001b[39;00m\u001b[38;5;124m-\u001b[39m\u001b[38;5;124m\\\u001b[39m\u001b[38;5;124md\u001b[39m\u001b[38;5;132;01m{2}\u001b[39;00m\u001b[38;5;124m-\u001b[39m\u001b[38;5;124m\\\u001b[39m\u001b[38;5;124md\u001b[39m\u001b[38;5;132;01m{4}\u001b[39;00m\u001b[38;5;124m\\\u001b[39m\u001b[38;5;124mb\u001b[39m\u001b[38;5;124m'\u001b[39m, text)\n",
            "File \u001b[0;32m/lib/python3.11/site-packages/IPython/core/interactiveshell.py:308\u001b[0m, in \u001b[0;36m_modified_open\u001b[0;34m(file, *args, **kwargs)\u001b[0m\n\u001b[1;32m    301\u001b[0m \u001b[38;5;28;01mif\u001b[39;00m file \u001b[38;5;129;01min\u001b[39;00m {\u001b[38;5;241m0\u001b[39m, \u001b[38;5;241m1\u001b[39m, \u001b[38;5;241m2\u001b[39m}:\n\u001b[1;32m    302\u001b[0m     \u001b[38;5;28;01mraise\u001b[39;00m \u001b[38;5;167;01mValueError\u001b[39;00m(\n\u001b[1;32m    303\u001b[0m         \u001b[38;5;124mf\u001b[39m\u001b[38;5;124m\"\u001b[39m\u001b[38;5;124mIPython won\u001b[39m\u001b[38;5;124m'\u001b[39m\u001b[38;5;124mt let you open fd=\u001b[39m\u001b[38;5;132;01m{\u001b[39;00mfile\u001b[38;5;132;01m}\u001b[39;00m\u001b[38;5;124m by default \u001b[39m\u001b[38;5;124m\"\u001b[39m\n\u001b[1;32m    304\u001b[0m         \u001b[38;5;124m\"\u001b[39m\u001b[38;5;124mas it is likely to crash IPython. If you know what you are doing, \u001b[39m\u001b[38;5;124m\"\u001b[39m\n\u001b[1;32m    305\u001b[0m         \u001b[38;5;124m\"\u001b[39m\u001b[38;5;124myou can use builtins\u001b[39m\u001b[38;5;124m'\u001b[39m\u001b[38;5;124m open.\u001b[39m\u001b[38;5;124m\"\u001b[39m\n\u001b[1;32m    306\u001b[0m     )\n\u001b[0;32m--> 308\u001b[0m \u001b[38;5;28;01mreturn\u001b[39;00m \u001b[43mio_open\u001b[49m\u001b[43m(\u001b[49m\u001b[43mfile\u001b[49m\u001b[43m,\u001b[49m\u001b[43m \u001b[49m\u001b[38;5;241;43m*\u001b[39;49m\u001b[43margs\u001b[49m\u001b[43m,\u001b[49m\u001b[43m \u001b[49m\u001b[38;5;241;43m*\u001b[39;49m\u001b[38;5;241;43m*\u001b[39;49m\u001b[43mkwargs\u001b[49m\u001b[43m)\u001b[49m\n",
            "\u001b[0;31mFileNotFoundError\u001b[0m: [Errno 44] No such file or directory: 'text_file.txt'"
          ],
          "output_type": "error"
        }
      ],
      "id": "579c0efb-c9b5-4a07-8f5a-92b1f7ad4441"
    },
    {
      "cell_type": "code",
      "source": "Question 30- Create a function in python to remove all words from a string of length between 2 and 4.\n\nThe use of the re.compile() method is mandatory.\n\nSample Text: \"The following example creates an ArrayList with a capacity of 50 elements. 4 elements are then added to the ArrayList and the ArrayList is trimmed accordingly.\"",
      "metadata": {},
      "execution_count": null,
      "outputs": [],
      "id": "e5c7f632-9576-48d6-82da-10d93d15aaf0"
    },
    {
      "cell_type": "code",
      "source": "import re\n\ndef remove_words_of_length_between_2_and_4(text):\n    pattern = re.compile(r'\\b\\w{2,4}\\b')\n    cleaned_text = pattern.sub('', text)\n    return cleaned_text\n\n# Sample text\nsample_text = \"The following example creates an ArrayList with a capacity of 50 elements. 4 elements are then added to the ArrayList and the ArrayList is trimmed accordingly.\"\n\nresult = remove_words_of_length_between_2_and_4(sample_text)\nprint(\"Text with words of length between 2 and 4 removed:\")\nprint(result)",
      "metadata": {
        "trusted": true
      },
      "execution_count": 36,
      "outputs": [
        {
          "name": "stdout",
          "text": "Text with words of length between 2 and 4 removed:\n following example creates  ArrayList  a capacity   elements. 4 elements   added   ArrayList   ArrayList  trimmed accordingly.\n",
          "output_type": "stream"
        }
      ],
      "id": "e014c2c2-ae0b-42cd-93f6-2b117635f34b"
    },
    {
      "cell_type": "code",
      "source": "",
      "metadata": {},
      "execution_count": null,
      "outputs": [],
      "id": "09805730-3f62-4ef9-9afe-102d9437741f"
    }
  ]
}